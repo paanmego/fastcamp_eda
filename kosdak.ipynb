{
 "cells": [
  {
   "cell_type": "code",
   "execution_count": null,
   "metadata": {},
   "outputs": [],
   "source": [
    "import yfinance as yf\n",
    "import pandas as pd\n",
    "import matplotlib.pyplot as plt"
   ]
  },
  {
   "cell_type": "code",
   "execution_count": null,
   "metadata": {},
   "outputs": [],
   "source": [
    "kosdaq_ticker = '^KQ11'\n",
    "kosdaq_data = yf.Ticker(kosdaq_ticker)\n",
    "kosdaq_hist = kosdaq_data.history(period=\"max\")\n",
    "\n",
    "kosdaq_hist.reset_index(drop=False, inplace=True)\n",
    "# kosdaq_hist= kosdaq_hist.stack().reset_index(name='Value')\n",
    "kosdaq_hist['Date'] = pd.to_datetime(kosdaq_hist['Date']).dt.strftime('%Y-%m-%d')\n",
    "kosdaq_hist['Date'] = pd.to_datetime(kosdaq_hist['Date'])\n",
    "\n",
    "print(kosdaq_hist.head())"
   ]
  },
  {
   "cell_type": "code",
   "execution_count": null,
   "metadata": {},
   "outputs": [],
   "source": [
    "# 특정 날짜의 데이터만 필터링하여 출력\n",
    "specific_date = '2024-04-02'\n",
    "filtered_data = kosdaq_hist.loc[kosdaq_hist.index == specific_date]\n",
    "print(filtered_data)"
   ]
  },
  {
   "cell_type": "code",
   "execution_count": null,
   "metadata": {},
   "outputs": [],
   "source": [
    "#https://www.bok.or.kr/portal/main/contents.do?menuNo=200096\n",
    "fund = pd.read_csv('./data/kbf.csv')\n",
    "\n",
    "fund"
   ]
  },
  {
   "cell_type": "code",
   "execution_count": null,
   "metadata": {},
   "outputs": [],
   "source": [
    "kbf_fund = fund.melt(id_vars=['통계표', '계정항목', '단위', '변환'], var_name='Date', value_name='KBF')\n",
    "kbf_fund = kbf_fund.drop(columns=['통계표', '계정항목', '단위', '변환'])\n",
    "kbf_fund['Date'] = kbf_fund['Date'].str.replace('/', '-').astype('datetime64[ns]')\n",
    "kbf_fund['Date'] = pd.to_datetime(kbf_fund['Date'])\n",
    "\n",
    "kbf_fund\n"
   ]
  },
  {
   "cell_type": "code",
   "execution_count": null,
   "metadata": {},
   "outputs": [],
   "source": [
    "kosdak_fund_data = pd.merge(kosdaq_hist, kbf_fund, on='Date', how='left')\n",
    "kosdak_fund_data"
   ]
  },
  {
   "cell_type": "code",
   "execution_count": null,
   "metadata": {},
   "outputs": [],
   "source": [
    "import plotly.graph_objects as go\n",
    "\n",
    "\n",
    "# 캔들스틱 차트 생성\n",
    "candlestick = go.Candlestick(x=kosdak_fund_data['Date'],\n",
    "                             open=kosdak_fund_data['Open'],\n",
    "                             high=kosdak_fund_data['High'],\n",
    "                             low=kosdak_fund_data['Low'],\n",
    "                             close=kosdak_fund_data['Close'],\n",
    "                             name='Kosdak')\n",
    "\n",
    "#line_chart = go.Scatter(x=kosdak_fund_data['Date'], y=kosdak_fund_data['KBF'], mode='lines', name='Korea Bank Fund', line=dict(color='gray'))\n",
    "\n",
    "ratio = kosdak_fund_data['Close'] / kosdak_fund_data['KBF']\n",
    "adjusted_kbf = kosdak_fund_data['KBF'] * ratio.mean() / kosdak_fund_data['Close'].mean()\n",
    "\n",
    "adjusted_line_chart = go.Scatter(x=kosdak_fund_data['Date'], y=adjusted_kbf*kosdak_fund_data['Close'].mean()/ratio.mean(), mode='lines', line=dict(color='darkblue'), yaxis='y2', name = 'korea bank fund')\n",
    "\n",
    "\n",
    "\n",
    "# 그래프 레이아웃 설정\n",
    "layout = go.Layout(title='KOSDAQ Candlestick Chart with Korea Bank Fund', title_x=0.5,\n",
    "                   xaxis=dict(title='Date'),\n",
    "                   yaxis=dict(title='Price', side='left'),\n",
    "                   yaxis2=dict(title='Korea Bank Fund', side='right', overlaying='y', showgrid=False),\n",
    "                   legend=dict(x=0.85, y=1.1),\n",
    "                   width=1200, \n",
    "                   height=800)\n",
    "\n",
    "\n",
    "\n",
    "fig = go.Figure(data=[candlestick, adjusted_line_chart], layout=layout)\n",
    "\n",
    "\n",
    "periods = [('2002-03-25', '2004-08-05'), ('2007-10-10', '2008-11-05'), ('2020-02-27', '2020-04-01')]\n",
    "\n",
    "# 각 기간에 대해 투명한 회색 박스를 추가\n",
    "for start, end in periods:\n",
    "    fig.add_vrect(x0=start, x1=end, \n",
    "                  fillcolor='rgba(128,128,128,0.35)',  # 회색에 20% 투명도\n",
    "                  line=dict(color='rgba(0,0,0,0)', width=0))\n",
    "\n",
    "fig.show()"
   ]
  }
 ],
 "metadata": {
  "kernelspec": {
   "display_name": "base",
   "language": "python",
   "name": "python3"
  },
  "language_info": {
   "codemirror_mode": {
    "name": "ipython",
    "version": 3
   },
   "file_extension": ".py",
   "mimetype": "text/x-python",
   "name": "python",
   "nbconvert_exporter": "python",
   "pygments_lexer": "ipython3",
   "version": "3.11.7"
  }
 },
 "nbformat": 4,
 "nbformat_minor": 2
}
